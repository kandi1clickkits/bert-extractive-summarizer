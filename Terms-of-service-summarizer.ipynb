{
 "cells": [
  {
   "cell_type": "markdown",
   "id": "d975e0df",
   "metadata": {},
   "source": [
    "### Variables"
   ]
  },
  {
   "cell_type": "code",
   "execution_count": 40,
   "id": "32c8cc60",
   "metadata": {},
   "outputs": [],
   "source": [
    "input_file = open(\"sample.txt\",\"r\")\n",
    "text = input_file.read()\n",
    "input_file.close()\n"
   ]
  },
  {
   "cell_type": "markdown",
   "id": "fa2c8f89",
   "metadata": {},
   "source": [
    "#### You can refer https://pypi.org/project/bert-extractive-summarizer/ for tuning paramters"
   ]
  },
  {
   "cell_type": "code",
   "execution_count": 41,
   "id": "ad43580d",
   "metadata": {},
   "outputs": [],
   "source": [
    "sentences=2\n",
    "summarizing_ratio=0.3\n",
    "minimum_length=30\n",
    "maximum_length=500"
   ]
  },
  {
   "cell_type": "markdown",
   "id": "1e8d341e",
   "metadata": {},
   "source": [
    "Import and Run the pretrained model."
   ]
  },
  {
   "cell_type": "code",
   "execution_count": 42,
   "id": "b46b0d54",
   "metadata": {},
   "outputs": [
    {
     "name": "stderr",
     "output_type": "stream",
     "text": [
      "Some weights of the model checkpoint at bert-large-uncased were not used when initializing BertModel: ['cls.predictions.bias', 'cls.predictions.decoder.weight', 'cls.predictions.transform.LayerNorm.weight', 'cls.predictions.transform.LayerNorm.bias', 'cls.predictions.transform.dense.bias', 'cls.predictions.transform.dense.weight', 'cls.seq_relationship.weight', 'cls.seq_relationship.bias']\n",
      "- This IS expected if you are initializing BertModel from the checkpoint of a model trained on another task or with another architecture (e.g. initializing a BertForSequenceClassification model from a BertForPreTraining model).\n",
      "- This IS NOT expected if you are initializing BertModel from the checkpoint of a model that you expect to be exactly identical (initializing a BertForSequenceClassification model from a BertForSequenceClassification model).\n"
     ]
    }
   ],
   "source": [
    "from summarizer import Summarizer\n",
    "\n",
    "model = Summarizer()\n",
    "output=model(body=text,num_sentences=sentences,min_length=minimum_length,max_length=maximum_length)\n"
   ]
  },
  {
   "cell_type": "markdown",
   "id": "80d0878e",
   "metadata": {},
   "source": [
    "### output"
   ]
  },
  {
   "cell_type": "code",
   "execution_count": 43,
   "id": "7660d73a",
   "metadata": {},
   "outputs": [],
   "source": [
    "with open('summarized_text.txt', 'w',encoding='utf-8') as f:\n",
    "    for line in output:\n",
    "        f.write(line)\n"
   ]
  },
  {
   "cell_type": "markdown",
   "id": "ef6906bf",
   "metadata": {},
   "source": [
    "To try with more options you can refer https://github.com/kandikits/bert-extractive-summarizer/blob/master/Summarizer.ipynb"
   ]
  },
  {
   "cell_type": "code",
   "execution_count": null,
   "id": "5d4e0aff",
   "metadata": {},
   "outputs": [],
   "source": []
  }
 ],
 "metadata": {
  "kernelspec": {
   "display_name": "Python 3 (ipykernel)",
   "language": "python",
   "name": "python3"
  },
  "language_info": {
   "codemirror_mode": {
    "name": "ipython",
    "version": 3
   },
   "file_extension": ".py",
   "mimetype": "text/x-python",
   "name": "python",
   "nbconvert_exporter": "python",
   "pygments_lexer": "ipython3",
   "version": "3.9.7"
  }
 },
 "nbformat": 4,
 "nbformat_minor": 5
}
