{
 "cells": [
  {
   "cell_type": "markdown",
   "id": "d9a3686a",
   "metadata": {},
   "source": [
    "Importing libraries and pretrained model "
   ]
  },
  {
   "cell_type": "code",
   "execution_count": 1,
   "id": "a54946d8",
   "metadata": {},
   "outputs": [],
   "source": [
    "import torch\n",
    "import json \n",
    "from transformers import T5Tokenizer, T5ForConditionalGeneration, T5Config"
   ]
  },
  {
   "cell_type": "markdown",
   "id": "bef57492",
   "metadata": {},
   "source": [
    "## Variables"
   ]
  },
  {
   "cell_type": "markdown",
   "id": "021f1668",
   "metadata": {},
   "source": [
    "    1.minimum_length refers to the minimum length to accept as a sentence for summarizing.\n",
    "    2.maximum_length refers to the maximum length to accept as a sentence for summarizing.\n",
    "    3.ngram_size refers to the size of an n-gram that cannot occur more than once.\n",
    "    4.early_stopping to stop beam search when at least num_beams sentences finished per batch.\n",
    "    5.num_beamsrefers to number of beams for beam search.\n",
    "\n",
    "   summarized text is in <b>output</b> variable"
   ]
  },
  {
   "cell_type": "code",
   "execution_count": 2,
   "id": "4c32a77c",
   "metadata": {},
   "outputs": [],
   "source": [
    "input_file = open(\"sample.txt\",\"r\")\n",
    "text = input_file.read()\n",
    "input_file.close()\n"
   ]
  },
  {
   "cell_type": "code",
   "execution_count": 9,
   "id": "f3483cdd",
   "metadata": {},
   "outputs": [],
   "source": [
    "minimum_length=50\n",
    "maximum_length=90\n",
    "ngram_size=3\n",
    "early_stopping=True\n",
    "n_beams=6"
   ]
  },
  {
   "cell_type": "markdown",
   "id": "2f32a6ef",
   "metadata": {},
   "source": [
    "Loading pretrained model"
   ]
  },
  {
   "cell_type": "code",
   "execution_count": 4,
   "id": "0a6f2a0c",
   "metadata": {},
   "outputs": [],
   "source": [
    "model = T5ForConditionalGeneration.from_pretrained('t5-small')\n",
    "tokenizer = T5Tokenizer.from_pretrained('t5-small')\n",
    "device = torch.device('cpu')\n"
   ]
  },
  {
   "cell_type": "markdown",
   "id": "1d3fe324",
   "metadata": {},
   "source": [
    "Preprocessing the input text"
   ]
  },
  {
   "cell_type": "code",
   "execution_count": 5,
   "id": "2bb66ffc",
   "metadata": {},
   "outputs": [
    {
     "name": "stdout",
     "output_type": "stream",
     "text": [
      "original text preprocessed: \n",
      " Please read these Terms and Conditions (\"Terms\", \"Terms and Conditions\") carefully before usingthe http://www.mywebsite.com (change this) website and the My Mobile App (change this) mobileapplication (the \"Service\") operated by My Company (change this) (\"us\", \"we\", or \"our\").Your access to and use of the Service is conditioned on your acceptance of and compliance withthese Terms. These Terms apply to all visitors, users and others who access or use the Service.By accessing or using the Service you agree to be bound by these Terms. If you disagreewith any part of the terms then you may not access the Service.PurchasesIf you wish to purchase any product or service made available through the Service (\"Purchase\"),you may be asked to supply certain information relevant to your Purchase including, withoutlimitation, your â€¦The Purchases section is for businesses that sell online (physical or digital). For the fulldisclosure section, create your own Terms and Conditions.SubscriptionsSome parts of the Service are billed on a subscription basis (\"Subscription(s)\"). You will be billed inadvance on a recurring ...The Subscriptions section is for SaaS businesses.\n"
     ]
    }
   ],
   "source": [
    "preprocess_text = text.strip().replace(\"\\n\",\"\")\n",
    "t5_prepared_Text = \"summarize: \"+preprocess_text\n",
    "print (\"original text preprocessed: \\n\", preprocess_text)"
   ]
  },
  {
   "cell_type": "markdown",
   "id": "af25433f",
   "metadata": {},
   "source": [
    "Tokenize text using encoding"
   ]
  },
  {
   "cell_type": "code",
   "execution_count": 6,
   "id": "0725a883",
   "metadata": {},
   "outputs": [],
   "source": [
    "tokenized_text = tokenizer.encode(t5_prepared_Text, return_tensors=\"pt\").to(device)"
   ]
  },
  {
   "cell_type": "markdown",
   "id": "ee5b1679",
   "metadata": {},
   "source": [
    "Run the model with tokenized text"
   ]
  },
  {
   "cell_type": "code",
   "execution_count": 10,
   "id": "c7ccf8af",
   "metadata": {},
   "outputs": [
    {
     "name": "stderr",
     "output_type": "stream",
     "text": [
      "C:\\Users\\SainivethaS\\AppData\\Local\\Programs\\Python\\Python39\\lib\\site-packages\\transformers\\generation_utils.py:1838: UserWarning: __floordiv__ is deprecated, and its behavior will change in a future version of pytorch. It currently rounds toward 0 (like the 'trunc' function NOT 'floor'). This results in incorrect rounding for negative values. To keep the current behavior, use torch.div(a, b, rounding_mode='trunc'), or for actual floor division, use torch.div(a, b, rounding_mode='floor').\n",
      "  next_indices = next_tokens // vocab_size\n"
     ]
    }
   ],
   "source": [
    "summary_ids = model.generate(tokenized_text,\n",
    "                            no_repeat_ngram_size=ngram_size,\n",
    "                            min_length=minimum_length,\n",
    "                            max_length=maximum_length,early_stopping=early_stopping,num_beams=n_beams)"
   ]
  },
  {
   "cell_type": "code",
   "execution_count": 11,
   "id": "8bec0eb1",
   "metadata": {},
   "outputs": [],
   "source": [
    "output = tokenizer.decode(summary_ids[0], skip_special_tokens=True)"
   ]
  },
  {
   "cell_type": "markdown",
   "id": "508c7cb4",
   "metadata": {},
   "source": [
    "### output"
   ]
  },
  {
   "cell_type": "code",
   "execution_count": 13,
   "id": "72957100",
   "metadata": {},
   "outputs": [],
   "source": [
    "with open('abstractive_summarized_text.txt', 'w',encoding='utf-8') as f:\n",
    "    for line in output:\n",
    "        f.write(line)\n"
   ]
  },
  {
   "cell_type": "code",
   "execution_count": null,
   "id": "86994e8f",
   "metadata": {},
   "outputs": [],
   "source": []
  }
 ],
 "metadata": {
  "kernelspec": {
   "display_name": "Python 3 (ipykernel)",
   "language": "python",
   "name": "python3"
  },
  "language_info": {
   "codemirror_mode": {
    "name": "ipython",
    "version": 3
   },
   "file_extension": ".py",
   "mimetype": "text/x-python",
   "name": "python",
   "nbconvert_exporter": "python",
   "pygments_lexer": "ipython3",
   "version": "3.9.7"
  }
 },
 "nbformat": 4,
 "nbformat_minor": 5
}
